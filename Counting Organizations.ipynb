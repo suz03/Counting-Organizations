{
 "cells": [
  {
   "cell_type": "code",
   "execution_count": 1,
   "id": "458eb729",
   "metadata": {},
   "outputs": [
    {
     "data": {
      "text/plain": [
       "<sqlite3.Cursor at 0x1084626c0>"
      ]
     },
     "execution_count": 1,
     "metadata": {},
     "output_type": "execute_result"
    }
   ],
   "source": [
    "import sqlite3\n",
    "\n",
    "conn = sqlite3.connect('org_count.db')\n",
    "cur = conn.cursor()\n",
    "\n",
    "cur.execute('''\n",
    "DROP TABLE IF EXISTS Counts''')\n",
    "\n",
    "cur.execute('''\n",
    "CREATE TABLE Counts (org TEXT, count INTEGER)''')\n"
   ]
  },
  {
   "cell_type": "code",
   "execution_count": 2,
   "id": "413546c8",
   "metadata": {},
   "outputs": [],
   "source": [
    "fname = '/Users/surajojha/Downloads/mbox.txt'\n",
    "try:\n",
    "    fhand = open(fname)\n",
    "except:\n",
    "    print('File cannot be opened:', fname)\n",
    "    exit()\n"
   ]
  },
  {
   "cell_type": "code",
   "execution_count": 3,
   "id": "01958b7f",
   "metadata": {},
   "outputs": [],
   "source": [
    "import re\n",
    "\n",
    "for line in fhand:\n",
    "    if not line.startswith('From '): \n",
    "        continue\n",
    "    pieces = line.split()\n",
    "    email = pieces[1]\n",
    "    domain = email.split('@')[1]\n",
    "    \n",
    "    cur.execute('SELECT count FROM Counts WHERE org = ? ', (domain, ))\n",
    "    row = cur.fetchone()\n",
    "    if row is None:\n",
    "        cur.execute('''INSERT INTO Counts (org, count) \n",
    "                VALUES (?, 1)''', (domain, ))\n",
    "    else: \n",
    "        cur.execute('UPDATE Counts SET count = count + 1 WHERE org = ?', \n",
    "            (domain, ))\n",
    "\n",
    "conn.commit()\n"
   ]
  },
  {
   "cell_type": "code",
   "execution_count": 4,
   "id": "c10f78ae",
   "metadata": {},
   "outputs": [
    {
     "name": "stdout",
     "output_type": "stream",
     "text": [
      "Counts:\n",
      "iupui.edu 8\n",
      "umich.edu 7\n",
      "uct.ac.za 6\n",
      "media.berkeley.edu 4\n",
      "caret.cam.ac.uk 1\n",
      "gmail.com 1\n"
     ]
    }
   ],
   "source": [
    "sqlstr = 'SELECT org, count FROM Counts ORDER BY count DESC'\n",
    "\n",
    "print(\"Counts:\")\n",
    "for row in cur.execute(sqlstr):\n",
    "    print(str(row[0]), row[1])\n",
    "\n",
    "cur.close()\n"
   ]
  },
  {
   "cell_type": "code",
   "execution_count": null,
   "id": "a8fc298f",
   "metadata": {},
   "outputs": [],
   "source": []
  }
 ],
 "metadata": {
  "kernelspec": {
   "display_name": "Python 3 (ipykernel)",
   "language": "python",
   "name": "python3"
  },
  "language_info": {
   "codemirror_mode": {
    "name": "ipython",
    "version": 3
   },
   "file_extension": ".py",
   "mimetype": "text/x-python",
   "name": "python",
   "nbconvert_exporter": "python",
   "pygments_lexer": "ipython3",
   "version": "3.9.19"
  }
 },
 "nbformat": 4,
 "nbformat_minor": 5
}
